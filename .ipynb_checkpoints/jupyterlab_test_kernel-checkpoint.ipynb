{
 "cells": [
  {
   "cell_type": "code",
   "execution_count": 4,
   "id": "6db00d95-6558-40d1-b894-0a2d7d11225c",
   "metadata": {
    "editable": true,
    "slideshow": {
     "slide_type": ""
    },
    "tags": []
   },
   "outputs": [],
   "source": [
    "import openpyxl\n",
    "import pandas\n",
    "from collections import Counter\n",
    "from difflib import SequenceMatcher\n",
    "from collections import OrderedDict\n",
    "import time\n",
    "import numpy\n",
    "import igraph\n",
    "import time\n",
    "from datetime import datetime\n",
    "import haversine\n",
    "from haversine import Unit\n",
    "from math import radians, sin, cos, acos\n",
    "from geopy.distance import geodesic\n",
    "from geopy.distance import great_circle\n",
    "from openpyxl.chart import BarChart, series, Reference\n",
    "\n",
    "\n",
    "\n",
    "path_true_coordinates = \"C:\\\\Users\\\\phams\\\\Downloads\\\\Đà_Nẵng_Toạ_độ_đúng.XLSX\"\n",
    "path_ip1_ip2_coordinates = \"C:\\\\Users\\\\phams\\\\Downloads\\\\Dataraw_đánh_giá_chất_lượng_phân_tích_địa_chỉ_tại_Đà_Nẵng.XLSX\"\n",
    "path_result = \"C:\\\\Users\\\\phams\\\\Downloads\\\\DaNang_ip_check - new.XLSX\"\n",
    "\n",
    "wb_true = openpyxl.load_workbook(path_true_coordinates)\n",
    "sheet_true = wb_true.active\n",
    "\n",
    "wb_ip = openpyxl.load_workbook(path_ip1_ip2_coordinates)\n",
    "sheet_ip = wb_ip.active\n",
    "\n",
    "wb_result = openpyxl.load_workbook(path_result)\n",
    "sheet_result = wb_result.active"
   ]
  },
  {
   "cell_type": "code",
   "execution_count": 7,
   "id": "873f011a-76c6-4cfe-b305-7760568d592a",
   "metadata": {
    "editable": true,
    "slideshow": {
     "slide_type": ""
    },
    "tags": []
   },
   "outputs": [
    {
     "name": "stdout",
     "output_type": "stream",
     "text": [
      "Haversine:\n",
      "- Less than 1m: 6.948051948051948\n",
      "- 0 to 50m: 54.532467532467535%\n",
      "- 50 to 100m: 10.246753246753247%\n",
      "- 100 to 500m: 19.12987012987013%\n",
      "- 500 to 1000m: 6.987012987012988%\n",
      "- 1000m and higher: 9.103896103896105%\n",
      "\n",
      "Geodesic:\n",
      "- Less than 1m: 6.961038961038961\n",
      "- 0 to 50m: 54.57142857142857%\n",
      "- 50 to 100m: 10.246753246753247%\n",
      "- 100 to 500m: 19.12987012987013%\n",
      "- 500 to 1000m: 6.974025974025974%\n",
      "- 1000m and higher: 9.077922077922079%\n",
      "\n",
      "Great circle:\n",
      "- Less than 1m: 6.948051948051948\n",
      "- 0 to 50m: 54.532467532467535%\n",
      "- 50 to 100m: 10.246753246753247%\n",
      "- 100 to 500m: 19.12987012987013%\n",
      "- 500 to 1000m: 6.987012987012988%\n",
      "- 1000m and higher: 9.103896103896105%\n",
      "\n"
     ]
    }
   ],
   "source": [
    "# value range percentage\n",
    "\n",
    "# haversine\n",
    "sub1_count = 0\n",
    "sub50_count = 0\n",
    "sub100_count = 0\n",
    "sub500_count = 0\n",
    "sub1000_count = 0\n",
    "above1000_count = 0\n",
    "for i in range(2,7702):\n",
    "    if sheet_result.cell(row=i,column=21).value < 1:\n",
    "        sub1_count +=1\n",
    "    if sheet_result.cell(row=i,column=21).value < 50:\n",
    "        sub50_count +=1\n",
    "    elif sheet_result.cell(row=i,column=21).value >= 50 and sheet_result.cell(row=i,column=21).value < 100:\n",
    "        sub100_count += 1\n",
    "    elif sheet_result.cell(row=i,column=21).value >=100 and sheet_result.cell(row=i,column=21).value<500:\n",
    "        sub500_count += 1\n",
    "    elif sheet_result.cell(row=i,column=21).value >= 500 and sheet_result.cell(row=i,column=21).value < 1000:\n",
    "        sub1000_count += 1\n",
    "    elif sheet_result.cell(row=i,column=21).value >= 1000:\n",
    "        above1000_count += 1\n",
    "print(\"Haversine:\\n- Less than 1m: \"+str(100*(float(sub1_count)/float(7700)))+\"\\n- 0 to 50m: \"+str(100*(float(sub50_count)/float(7700)))+\"%\\n- 50 to 100m: \"+str(100*(float(sub100_count)/float(7700)))+\"%\\n- 100 to 500m: \"+str(100*(float(sub500_count)/float(7700)))+\"%\\n- 500 to 1000m: \"+str(100*(float(sub1000_count)/float(7700)))+\"%\\n- 1000m and higher: \"+str(100*(float(above1000_count)/float(7700)))+\"%\\n\")\n",
    "\n",
    "# geodesic\n",
    "sub1_count = 0\n",
    "sub50_count = 0\n",
    "sub100_count = 0\n",
    "sub500_count = 0\n",
    "sub1000_count = 0\n",
    "above1000_count = 0\n",
    "for i in range(2,7702):\n",
    "    if sheet_result.cell(row=i,column=23).value < 1:\n",
    "        sub1_count +=1\n",
    "    if sheet_result.cell(row=i,column=23).value < 50:\n",
    "        sub50_count +=1\n",
    "    elif sheet_result.cell(row=i,column=23).value >= 50 and sheet_result.cell(row=i,column=23).value < 100:\n",
    "        sub100_count += 1\n",
    "    elif sheet_result.cell(row=i,column=23).value >=100 and sheet_result.cell(row=i,column=23).value<500:\n",
    "        sub500_count += 1\n",
    "    elif sheet_result.cell(row=i,column=23).value >= 500 and sheet_result.cell(row=i,column=23).value < 1000:\n",
    "        sub1000_count += 1\n",
    "    elif sheet_result.cell(row=i,column=23).value >= 1000:\n",
    "        above1000_count += 1\n",
    "print(\"Geodesic:\\n- Less than 1m: \"+str(100*(float(sub1_count)/float(7700)))+\"\\n- 0 to 50m: \"+str(100*(float(sub50_count)/float(7700)))+\"%\\n- 50 to 100m: \"+str(100*(float(sub100_count)/float(7700)))+\"%\\n- 100 to 500m: \"+str(100*(float(sub500_count)/float(7700)))+\"%\\n- 500 to 1000m: \"+str(100*(float(sub1000_count)/float(7700)))+\"%\\n- 1000m and higher: \"+str(100*(float(above1000_count)/float(7700)))+\"%\\n\")\n",
    "\n",
    "# great circle\n",
    "sub1_count = 0\n",
    "sub50_count = 0\n",
    "sub100_count = 0\n",
    "sub500_count = 0\n",
    "sub1000_count = 0\n",
    "above1000_count = 0\n",
    "for i in range(2,7702):\n",
    "    if sheet_result.cell(row=i,column=24).value < 1:\n",
    "        sub1_count +=1\n",
    "    if sheet_result.cell(row=i,column=24).value < 50:\n",
    "        sub50_count +=1\n",
    "    elif sheet_result.cell(row=i,column=24).value >= 50 and sheet_result.cell(row=i,column=24).value < 100:\n",
    "        sub100_count += 1\n",
    "    elif sheet_result.cell(row=i,column=24).value >=100 and sheet_result.cell(row=i,column=24).value<500:\n",
    "        sub500_count += 1\n",
    "    elif sheet_result.cell(row=i,column=24).value >= 500 and sheet_result.cell(row=i,column=24).value < 1000:\n",
    "        sub1000_count += 1\n",
    "    elif sheet_result.cell(row=i,column=24).value >= 1000:\n",
    "        above1000_count += 1\n",
    "print(\"Great circle:\\n- Less than 1m: \"+str(100*(float(sub1_count)/float(7700)))+\"\\n- 0 to 50m: \"+str(100*(float(sub50_count)/float(7700)))+\"%\\n- 50 to 100m: \"+str(100*(float(sub100_count)/float(7700)))+\"%\\n- 100 to 500m: \"+str(100*(float(sub500_count)/float(7700)))+\"%\\n- 500 to 1000m: \"+str(100*(float(sub1000_count)/float(7700)))+\"%\\n- 1000m and higher: \"+str(100*(float(above1000_count)/float(7700)))+\"%\\n\")"
   ]
  },
  {
   "cell_type": "code",
   "execution_count": null,
   "id": "2b0d3655-8008-4739-84cf-7708d49f487a",
   "metadata": {
    "editable": true,
    "slideshow": {
     "slide_type": ""
    },
    "tags": []
   },
   "outputs": [],
   "source": []
  }
 ],
 "metadata": {
  "kernelspec": {
   "display_name": "Python 3 (ipykernel)",
   "language": "python",
   "name": "python3"
  },
  "language_info": {
   "codemirror_mode": {
    "name": "ipython",
    "version": 3
   },
   "file_extension": ".py",
   "mimetype": "text/x-python",
   "name": "python",
   "nbconvert_exporter": "python",
   "pygments_lexer": "ipython3",
   "version": "3.11.4"
  }
 },
 "nbformat": 4,
 "nbformat_minor": 5
}
